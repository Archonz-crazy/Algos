{
 "cells": [
  {
   "cell_type": "code",
   "execution_count": 79,
   "id": "c27ae35b",
   "metadata": {},
   "outputs": [],
   "source": [
    "import pandas as pd\n",
    "import numpy as np\n",
    "import matplotlib.pyplot as plt\n",
    "from sklearn.model_selection import train_test_split\n",
    "from sklearn.preprocessing import StandardScaler "
   ]
  },
  {
   "cell_type": "code",
   "execution_count": 80,
   "id": "91f96b46",
   "metadata": {},
   "outputs": [],
   "source": [
    "class LinearRegression:\n",
    "    \n",
    "    def __init__(self, lr=0.001, n_iters=1000):\n",
    "        self.lr = lr\n",
    "        self.n_iters = n_iters\n",
    "        self.weights = None\n",
    "        self.bias = None\n",
    "    \n",
    "    def fit(self, X, y):\n",
    "        n_samples, n_features = X.shape\n",
    "        self.weights = np.zeros(n_features)\n",
    "        self.bias = 0\n",
    "        \n",
    "        for _ in range(self.n_iters):\n",
    "            \n",
    "            y_predicted = np.dot(X, self.weights) + self.bias\n",
    "        \n",
    "            dw = (1/n_samples) * np.dot(X.T, (y_predicted-y))\n",
    "            db = (1/n_samples) * np.sum(y_predicted - y)\n",
    "        \n",
    "            self.weights = self.weights - (self.lr * dw)\n",
    "            self.bias = self.bias - self.lr * db\n",
    "    \n",
    "    def predict(self, X):\n",
    "        y_predicted = np.dot(X, self.weights) + self.bias\n",
    "        return y_predicted\n",
    "    "
   ]
  },
  {
   "cell_type": "code",
   "execution_count": 81,
   "id": "9cdb43d5",
   "metadata": {},
   "outputs": [],
   "source": [
    "def mean_squared_error(y_true, y_pred):\n",
    "    return np.mean((y_true-y_pred)**2)"
   ]
  },
  {
   "cell_type": "code",
   "execution_count": 82,
   "id": "1cb4c9e6",
   "metadata": {},
   "outputs": [],
   "source": [
    "df = pd.read_csv(\"income.csv\")"
   ]
  },
  {
   "cell_type": "code",
   "execution_count": 83,
   "id": "56c4bf42",
   "metadata": {},
   "outputs": [],
   "source": [
    "sc = StandardScaler()\n",
    "X = sc.fit_transform(df[['year']])\n",
    "#y = sc.fit_transform(df[['income']])\n",
    "y = df['income']"
   ]
  },
  {
   "cell_type": "code",
   "execution_count": 84,
   "id": "09b52096",
   "metadata": {},
   "outputs": [],
   "source": [
    "#plt.figure(figsize=(8,6))\n",
    "#plt.scatter(X, y, color='b', marker='o', s=20)\n",
    "#plt.show()"
   ]
  },
  {
   "cell_type": "code",
   "execution_count": 85,
   "id": "1bcd573e",
   "metadata": {},
   "outputs": [
    {
     "name": "stdout",
     "output_type": "stream",
     "text": [
      "(37, 1)\n",
      "(10, 1)\n",
      "(37,)\n",
      "(10,)\n"
     ]
    }
   ],
   "source": [
    "X_train, X_test, y_train, y_test = train_test_split(X, y, test_size=0.2, random_state=1234)\n",
    "print(X_train.shape)\n",
    "print(X_test.shape)\n",
    "print(y_train.shape)\n",
    "print(y_test.shape)"
   ]
  },
  {
   "cell_type": "code",
   "execution_count": 86,
   "id": "2fff04ac",
   "metadata": {},
   "outputs": [],
   "source": [
    "regressor = LinearRegression(lr = 0.01)\n",
    "regressor.fit(X_train, y_train)\n",
    "predictions = regressor.predict(X_test)"
   ]
  },
  {
   "cell_type": "code",
   "execution_count": null,
   "id": "ff6efb76",
   "metadata": {},
   "outputs": [],
   "source": []
  },
  {
   "cell_type": "code",
   "execution_count": 87,
   "id": "bf1b902b",
   "metadata": {},
   "outputs": [
    {
     "name": "stdout",
     "output_type": "stream",
     "text": [
      "MSE: 23472211.46521177\n"
     ]
    }
   ],
   "source": [
    "mse = mean_squared_error(y_test, predictions)\n",
    "print(\"MSE:\", mse)"
   ]
  },
  {
   "cell_type": "code",
   "execution_count": 88,
   "id": "015f14c3",
   "metadata": {},
   "outputs": [
    {
     "data": {
      "image/png": "[encoded data removed]",
      "text/plain": [
       "<Figure size 576x432 with 1 Axes>"
      ]
     },
     "metadata": {
      "needs_background": "light"
     },
     "output_type": "display_data"
    }
   ],
   "source": [
    "y_pred_line = regressor.predict(X)\n",
    "cmap = plt.get_cmap('viridis')\n",
    "fig = plt.figure(figsize=(8,6))\n",
    "m1 = plt.scatter(X_train, y_train, color=cmap(0.9), s=10)\n",
    "m2 = plt.scatter(X_test, y_test, color=cmap(0.5), s=10)\n",
    "plt.plot(X, y_pred_line, color='black', linewidth=2, label=\"Prediction\")\n",
    "plt.show()"
   ]
  },
  {
   "cell_type": "code",
   "execution_count": 89,
   "id": "f3ec40ed",
   "metadata": {},
   "outputs": [
    {
     "data": {
      "text/plain": [
       "array([40965.58393999])"
      ]
     },
     "execution_count": 89,
     "metadata": {},
     "output_type": "execute_result"
    }
   ],
   "source": [
    "regressor.predict(sc.transform([['2020']]))"
   ]
  },
  {
   "cell_type": "code",
   "execution_count": null,
   "id": "7e4f98c1",
   "metadata": {},
   "outputs": [],
   "source": []
  },
  {
   "cell_type": "code",
   "execution_count": null,
   "id": "d32cdcc9",
   "metadata": {},
   "outputs": [],
   "source": []
  }
 ],
 "metadata": {
  "kernelspec": {
   "display_name": "Python 3",
   "language": "python",
   "name": "python3"
  },
  "language_info": {
   "codemirror_mode": {
    "name": "ipython",
    "version": 3
   },
   "file_extension": ".py",
   "mimetype": "text/x-python",
   "name": "python",
   "nbconvert_exporter": "python",
   "pygments_lexer": "ipython3",
   "version": "3.9.4"
  }
 },
 "nbformat": 4,
 "nbformat_minor": 5
}
